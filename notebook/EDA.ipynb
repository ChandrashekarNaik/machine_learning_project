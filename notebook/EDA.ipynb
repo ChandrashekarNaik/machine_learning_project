{
 "cells": [
  {
   "cell_type": "code",
   "execution_count": null,
   "metadata": {},
   "outputs": [],
   "source": []
  }
 ],
 "metadata": {
  "kernelspec": {
   "display_name": "Python 3.7.0 (conda)",
   "language": "python",
   "name": "python3"
  },
  "language_info": {
   "name": "python",
   "version": "3.7.0"
  },
  "orig_nbformat": 4,
  "vscode": {
   "interpreter": {
    "hash": "fe7724e68988361ab0cca15c6de0052fc9ff5451879fb4405890a392ec7fb7b7"
   }
  }
 },
 "nbformat": 4,
 "nbformat_minor": 2
}
